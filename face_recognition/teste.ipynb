{
 "cells": [
  {
   "cell_type": "code",
   "execution_count": null,
   "metadata": {},
   "outputs": [],
   "source": [
    "# !pip install ultralytics"
   ]
  },
  {
   "cell_type": "code",
   "execution_count": 134,
   "metadata": {},
   "outputs": [],
   "source": [
    "import cv2\n",
    "import numpy as np\n",
    "from deepface import DeepFace\n",
    "from deepface.modules import verification"
   ]
  },
  {
   "cell_type": "code",
   "execution_count": 135,
   "metadata": {},
   "outputs": [],
   "source": [
    "backends = [\n",
    "  'opencv', \n",
    "  'ssd', \n",
    "  'dlib', \n",
    "  'mtcnn', \n",
    "  'retinaface', \n",
    "  'mediapipe',\n",
    "  'yolov8',\n",
    "  'yunet',\n",
    "  'fastmtcnn',\n",
    "]"
   ]
  },
  {
   "cell_type": "code",
   "execution_count": 136,
   "metadata": {},
   "outputs": [],
   "source": [
    "embedding_obj_alvo = DeepFace.represent(img_path = '/home/daniel/Documentos/pequi_mecanico/yolo_pose-dev/fotos/gabigol.jpg', \n",
    "        detector_backend = backends[4]\n",
    ")\n",
    "\n",
    "embedding_objs = DeepFace.represent(img_path = '/home/daniel/Documentos/pequi_mecanico/yolo_pose-dev/fotos/jogadores_flamengo.jpg', \n",
    "        detector_backend = backends[4]\n",
    ")"
   ]
  },
  {
   "cell_type": "code",
   "execution_count": 86,
   "metadata": {},
   "outputs": [
    {
     "name": "stdout",
     "output_type": "stream",
     "text": [
      "embedding\n",
      "facial_area\n",
      "face_confidence\n"
     ]
    }
   ],
   "source": [
    "for i in embedding_objs[0]:\n",
    "    print(i)"
   ]
  },
  {
   "cell_type": "code",
   "execution_count": 61,
   "metadata": {},
   "outputs": [
    {
     "data": {
      "text/plain": [
       "{'x': 342,\n",
       " 'y': 438,\n",
       " 'w': 77,\n",
       " 'h': 100,\n",
       " 'left_eye': (363, 473),\n",
       " 'right_eye': (399, 475)}"
      ]
     },
     "execution_count": 61,
     "metadata": {},
     "output_type": "execute_result"
    }
   ],
   "source": [
    "face_objs[0]['facial_area']"
   ]
  },
  {
   "cell_type": "code",
   "execution_count": 137,
   "metadata": {},
   "outputs": [
    {
     "data": {
      "text/plain": [
       "True"
      ]
     },
     "execution_count": 137,
     "metadata": {},
     "output_type": "execute_result"
    }
   ],
   "source": [
    "imagem = cv2.imread('/home/daniel/Documentos/pequi_mecanico/yolo_pose-dev/fotos/jogadores_flamengo.jpg')\n",
    "\n",
    "# Desenha as bounding boxes\n",
    "for i in range(len(embedding_objs)):\n",
    "\n",
    "    distance_vector = np.square(np.array(embedding_obj_alvo[0]['embedding']) - np.array(embedding_objs[i]['embedding']))\n",
    "    current_distance = np.sqrt(distance_vector.sum())\n",
    "\n",
    "    if i == 0 or current_distance < distance:\n",
    "        distance = current_distance\n",
    "        alvo = i\n",
    "\n",
    "for i in range(len(embedding_objs)):\n",
    "\n",
    "    x = embedding_objs[i]['facial_area']['x']  # coordenada x do canto superior esquerdo\n",
    "    y = embedding_objs[i]['facial_area']['y']  # coordenada y do canto superior esquerdo\n",
    "    w = embedding_objs[i]['facial_area']['w']  # largura da bounding box\n",
    "    h = embedding_objs[i]['facial_area']['h']  # altura da bounding box\n",
    "    if i == alvo:\n",
    "        cv2.rectangle(imagem, (x, y), (x + w, y + h), (0, 255, 0), 2) \n",
    "    else:\n",
    "        cv2.rectangle(imagem, (x, y), (x + w, y + h), (0, 0, 255), 2) \n",
    "\n",
    "cv2.imwrite('/home/daniel/Documentos/pequi_mecanico/yolo_pose-dev/fotos/result.jpg', imagem)"
   ]
  },
  {
   "cell_type": "code",
   "execution_count": 109,
   "metadata": {},
   "outputs": [
    {
     "data": {
      "text/plain": [
       "1"
      ]
     },
     "execution_count": 109,
     "metadata": {},
     "output_type": "execute_result"
    }
   ],
   "source": [
    "len(embedding_obj_alvo)"
   ]
  },
  {
   "cell_type": "code",
   "execution_count": 111,
   "metadata": {},
   "outputs": [
    {
     "data": {
      "text/plain": [
       "0.55"
      ]
     },
     "execution_count": 111,
     "metadata": {},
     "output_type": "execute_result"
    }
   ],
   "source": [
    "threshold = verification.find_threshold(model_name='retinaface', distance_metric=\"euclidean\")\n",
    "threshold"
   ]
  },
  {
   "cell_type": "code",
   "execution_count": 124,
   "metadata": {},
   "outputs": [
    {
     "data": {
      "text/plain": [
       "1.0061567869384744"
      ]
     },
     "execution_count": 124,
     "metadata": {},
     "output_type": "execute_result"
    }
   ],
   "source": [
    "distance_vector = np.square(np.array(embedding_obj_alvo[0]['embedding']) - np.array(embedding_objs[7]['embedding']))\n",
    "current_distance = np.sqrt(distance_vector.sum())\n",
    "current_distance"
   ]
  },
  {
   "cell_type": "code",
   "execution_count": 90,
   "metadata": {},
   "outputs": [
    {
     "data": {
      "text/plain": [
       "4096"
      ]
     },
     "execution_count": 90,
     "metadata": {},
     "output_type": "execute_result"
    }
   ],
   "source": [
    "len(embedding_objs[0]['embedding'])"
   ]
  }
 ],
 "metadata": {
  "interpreter": {
   "hash": "916dbcbb3f70747c44a77c7bcd40155683ae19c65e1c03b4aa3499c5328201f1"
  },
  "kernelspec": {
   "display_name": "Python 3.10.12 64-bit",
   "language": "python",
   "name": "python3"
  },
  "language_info": {
   "codemirror_mode": {
    "name": "ipython",
    "version": 3
   },
   "file_extension": ".py",
   "mimetype": "text/x-python",
   "name": "python",
   "nbconvert_exporter": "python",
   "pygments_lexer": "ipython3",
   "version": "3.10.12"
  },
  "orig_nbformat": 4
 },
 "nbformat": 4,
 "nbformat_minor": 2
}
